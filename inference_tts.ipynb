{
 "cells": [
  {
   "cell_type": "markdown",
   "metadata": {},
   "source": [
    "VoiceCraft Inference Text To Speech Demo\n",
    "==="
   ]
  },
  {
   "cell_type": "markdown",
   "metadata": {},
   "source": [
    "### Select 'voicecraft' as the kernel"
   ]
  },
  {
   "cell_type": "code",
   "metadata": {
    "ExecuteTime": {
     "end_time": "2024-07-10T14:26:45.033908Z",
     "start_time": "2024-07-10T14:26:41.183412Z"
    }
   },
   "source": [
    "# conda activate wsl-latest-voice-craft\n",
    "# import libs\n",
    "# if this throws an error, something went wrong installing dependencies or changing the kernel above!\n",
    "import os\n",
    "os.environ[\"CUDA_DEVICE_ORDER\"]=\"PCI_BUS_ID\"   \n",
    "os.environ[\"CUDA_VISIBLE_DEVICES\"]=\"0\"\n",
    "os.environ[\"USER\"] = \"saad\" # TODO change this to your username\n",
    "\n",
    "import torch\n",
    "import torchaudio\n",
    "import numpy as np\n",
    "import random\n",
    "from argparse import Namespace\n",
    "\n",
    "from data.tokenizer import (\n",
    "    AudioTokenizer,\n",
    "    TextTokenizer,\n",
    ")\n",
    "from huggingface_hub import hf_hub_download"
   ],
   "outputs": [],
   "execution_count": 1
  },
  {
   "cell_type": "code",
   "metadata": {
    "ExecuteTime": {
     "end_time": "2024-07-10T14:26:49.865326Z",
     "start_time": "2024-07-10T14:26:49.862209Z"
    }
   },
   "source": [
    "# # install MFA models and dictionaries if you haven't done so already, already done in the dockerfile or envrionment setup\n",
    "# !source ~/.bashrc && \\\n",
    "#     conda activate voicecraft && \\\n",
    "#     mfa model download dictionary english_us_arpa && \\\n",
    "#     mfa model download acoustic english_us_arpa"
   ],
   "outputs": [],
   "execution_count": 2
  },
  {
   "cell_type": "code",
   "metadata": {
    "ExecuteTime": {
     "end_time": "2024-07-10T14:43:12.050400Z",
     "start_time": "2024-07-10T14:26:53.307504Z"
    }
   },
   "source": [
    "# load model, encodec, and phn2num\n",
    "# # load model, tokenizer, and other necessary files\n",
    "device = \"cuda\" if torch.cuda.is_available() else \"cpu\"\n",
    "voicecraft_name=\"830M_TTSEnhanced.pth\" # or giga330M.pth, 330M_TTSEnhanced.pth, giga830M.pth\n",
    "\n",
    "# the new way of loading the model, with huggingface, recommended\n",
    "from models import voicecraft\n",
    "model = voicecraft.VoiceCraft.from_pretrained(f\"pyp1/VoiceCraft_{voicecraft_name.replace('.pth', '')}\")\n",
    "phn2num = model.args.phn2num\n",
    "config = vars(model.args)\n",
    "model.to(device)\n",
    "\n",
    "\n",
    "# # the old way of loading the model\n",
    "# from models import voicecraft\n",
    "# filepath = hf_hub_download(repo_id=\"pyp1/VoiceCraft\", filename=voicecraft_name, repo_type=\"model\")\n",
    "# ckpt = torch.load(filepath, map_location=\"cpu\")\n",
    "# model = voicecraft.VoiceCraft(ckpt[\"config\"])\n",
    "# model.load_state_dict(ckpt[\"model\"])\n",
    "# config = vars(model.args)\n",
    "# phn2num = ckpt[\"phn2num\"]\n",
    "# model.to(device)\n",
    "# model.eval()\n",
    "\n",
    "\n",
    "encodec_fn = \"./pretrained_models/encodec_4cb2048_giga.th\"\n",
    "if not os.path.exists(encodec_fn):\n",
    "    os.system(f\"wget https://huggingface.co/pyp1/VoiceCraft/resolve/main/encodec_4cb2048_giga.th\")\n",
    "    os.system(f\"mv encodec_4cb2048_giga.th ./pretrained_models/encodec_4cb2048_giga.th\")\n",
    "audio_tokenizer = AudioTokenizer(signature=encodec_fn, device=device) # will also put the neural codec model on gpu\n",
    "\n",
    "text_tokenizer = TextTokenizer(backend=\"espeak\")\n"
   ],
   "outputs": [
    {
     "data": {
      "text/plain": [
       "config.json:   0%|          | 0.00/3.74k [00:00<?, ?B/s]"
      ],
      "application/vnd.jupyter.widget-view+json": {
       "version_major": 2,
       "version_minor": 0,
       "model_id": "1eebf11b0fb24929b13fca8c49a870a8"
      }
     },
     "metadata": {},
     "output_type": "display_data"
    },
    {
     "data": {
      "text/plain": [
       "model.safetensors:   0%|          | 0.00/3.36G [00:00<?, ?B/s]"
      ],
      "application/vnd.jupyter.widget-view+json": {
       "version_major": 2,
       "version_minor": 0,
       "model_id": "8e9f2fd619d7422089d8ccb8d6d9653b"
      }
     },
     "metadata": {},
     "output_type": "display_data"
    },
    {
     "ename": "MissingConfigException",
     "evalue": "Primary config directory not found.\nCheck that the config directory '/home/saad/miniconda3/envs/wsl-latest-voice-craft/lib/python3.10/site-packages/audiocraft/../config' exists and readable",
     "output_type": "error",
     "traceback": [
      "\u001B[0;31m---------------------------------------------------------------------------\u001B[0m",
      "\u001B[0;31mMissingConfigException\u001B[0m                    Traceback (most recent call last)",
      "Cell \u001B[0;32mIn[3], line 30\u001B[0m\n\u001B[1;32m     28\u001B[0m     os\u001B[38;5;241m.\u001B[39msystem(\u001B[38;5;124mf\u001B[39m\u001B[38;5;124m\"\u001B[39m\u001B[38;5;124mwget https://huggingface.co/pyp1/VoiceCraft/resolve/main/encodec_4cb2048_giga.th\u001B[39m\u001B[38;5;124m\"\u001B[39m)\n\u001B[1;32m     29\u001B[0m     os\u001B[38;5;241m.\u001B[39msystem(\u001B[38;5;124mf\u001B[39m\u001B[38;5;124m\"\u001B[39m\u001B[38;5;124mmv encodec_4cb2048_giga.th ./pretrained_models/encodec_4cb2048_giga.th\u001B[39m\u001B[38;5;124m\"\u001B[39m)\n\u001B[0;32m---> 30\u001B[0m audio_tokenizer \u001B[38;5;241m=\u001B[39m \u001B[43mAudioTokenizer\u001B[49m\u001B[43m(\u001B[49m\u001B[43msignature\u001B[49m\u001B[38;5;241;43m=\u001B[39;49m\u001B[43mencodec_fn\u001B[49m\u001B[43m,\u001B[49m\u001B[43m \u001B[49m\u001B[43mdevice\u001B[49m\u001B[38;5;241;43m=\u001B[39;49m\u001B[43mdevice\u001B[49m\u001B[43m)\u001B[49m \u001B[38;5;66;03m# will also put the neural codec model on gpu\u001B[39;00m\n\u001B[1;32m     32\u001B[0m text_tokenizer \u001B[38;5;241m=\u001B[39m TextTokenizer(backend\u001B[38;5;241m=\u001B[39m\u001B[38;5;124m\"\u001B[39m\u001B[38;5;124mespeak\u001B[39m\u001B[38;5;124m\"\u001B[39m)\n",
      "File \u001B[0;32m/mnt/c/Users/saadn/PycharmProjects/VoiceCraft/data/tokenizer.py:110\u001B[0m, in \u001B[0;36mAudioTokenizer.__init__\u001B[0;34m(self, device, signature)\u001B[0m\n\u001B[1;32m    104\u001B[0m \u001B[38;5;28;01mdef\u001B[39;00m \u001B[38;5;21m__init__\u001B[39m(\n\u001B[1;32m    105\u001B[0m     \u001B[38;5;28mself\u001B[39m,\n\u001B[1;32m    106\u001B[0m     device: Any \u001B[38;5;241m=\u001B[39m \u001B[38;5;28;01mNone\u001B[39;00m,\n\u001B[1;32m    107\u001B[0m     signature \u001B[38;5;241m=\u001B[39m \u001B[38;5;28;01mNone\u001B[39;00m\n\u001B[1;32m    108\u001B[0m ) \u001B[38;5;241m-\u001B[39m\u001B[38;5;241m>\u001B[39m \u001B[38;5;28;01mNone\u001B[39;00m:\n\u001B[1;32m    109\u001B[0m     \u001B[38;5;28;01mfrom\u001B[39;00m \u001B[38;5;21;01maudiocraft\u001B[39;00m\u001B[38;5;21;01m.\u001B[39;00m\u001B[38;5;21;01msolvers\u001B[39;00m \u001B[38;5;28;01mimport\u001B[39;00m CompressionSolver\n\u001B[0;32m--> 110\u001B[0m     model \u001B[38;5;241m=\u001B[39m \u001B[43mCompressionSolver\u001B[49m\u001B[38;5;241;43m.\u001B[39;49m\u001B[43mmodel_from_checkpoint\u001B[49m\u001B[43m(\u001B[49m\u001B[43msignature\u001B[49m\u001B[43m)\u001B[49m\n\u001B[1;32m    111\u001B[0m     \u001B[38;5;28mself\u001B[39m\u001B[38;5;241m.\u001B[39msample_rate \u001B[38;5;241m=\u001B[39m model\u001B[38;5;241m.\u001B[39msample_rate\n\u001B[1;32m    112\u001B[0m     \u001B[38;5;28mself\u001B[39m\u001B[38;5;241m.\u001B[39mchannels \u001B[38;5;241m=\u001B[39m model\u001B[38;5;241m.\u001B[39mchannels\n",
      "File \u001B[0;32m~/miniconda3/envs/wsl-latest-voice-craft/lib/python3.10/site-packages/audiocraft/solvers/compression.py:287\u001B[0m, in \u001B[0;36mCompressionSolver.model_from_checkpoint\u001B[0;34m(checkpoint_path, device)\u001B[0m\n\u001B[1;32m    285\u001B[0m logger \u001B[38;5;241m=\u001B[39m logging\u001B[38;5;241m.\u001B[39mgetLogger(\u001B[38;5;18m__name__\u001B[39m)\n\u001B[1;32m    286\u001B[0m logger\u001B[38;5;241m.\u001B[39minfo(\u001B[38;5;124mf\u001B[39m\u001B[38;5;124m\"\u001B[39m\u001B[38;5;124mLoading compression model from checkpoint: \u001B[39m\u001B[38;5;132;01m{\u001B[39;00mcheckpoint_path\u001B[38;5;132;01m}\u001B[39;00m\u001B[38;5;124m\"\u001B[39m)\n\u001B[0;32m--> 287\u001B[0m _checkpoint_path \u001B[38;5;241m=\u001B[39m \u001B[43mcheckpoint\u001B[49m\u001B[38;5;241;43m.\u001B[39;49m\u001B[43mresolve_checkpoint_path\u001B[49m\u001B[43m(\u001B[49m\u001B[43mcheckpoint_path\u001B[49m\u001B[43m,\u001B[49m\u001B[43m \u001B[49m\u001B[43muse_fsdp\u001B[49m\u001B[38;5;241;43m=\u001B[39;49m\u001B[38;5;28;43;01mFalse\u001B[39;49;00m\u001B[43m)\u001B[49m\n\u001B[1;32m    288\u001B[0m \u001B[38;5;28;01massert\u001B[39;00m _checkpoint_path \u001B[38;5;129;01mis\u001B[39;00m \u001B[38;5;129;01mnot\u001B[39;00m \u001B[38;5;28;01mNone\u001B[39;00m, \u001B[38;5;124mf\u001B[39m\u001B[38;5;124m\"\u001B[39m\u001B[38;5;124mCould not resolve compression model checkpoint path: \u001B[39m\u001B[38;5;132;01m{\u001B[39;00mcheckpoint_path\u001B[38;5;132;01m}\u001B[39;00m\u001B[38;5;124m\"\u001B[39m\n\u001B[1;32m    289\u001B[0m state \u001B[38;5;241m=\u001B[39m checkpoint\u001B[38;5;241m.\u001B[39mload_checkpoint(_checkpoint_path)\n",
      "File \u001B[0;32m~/miniconda3/envs/wsl-latest-voice-craft/lib/python3.10/site-packages/audiocraft/utils/checkpoint.py:68\u001B[0m, in \u001B[0;36mresolve_checkpoint_path\u001B[0;34m(sig_or_path, name, use_fsdp)\u001B[0m\n\u001B[1;32m     56\u001B[0m \u001B[38;5;28;01mdef\u001B[39;00m \u001B[38;5;21mresolve_checkpoint_path\u001B[39m(sig_or_path: tp\u001B[38;5;241m.\u001B[39mUnion[Path, \u001B[38;5;28mstr\u001B[39m], name: tp\u001B[38;5;241m.\u001B[39mOptional[\u001B[38;5;28mstr\u001B[39m] \u001B[38;5;241m=\u001B[39m \u001B[38;5;28;01mNone\u001B[39;00m,\n\u001B[1;32m     57\u001B[0m                             use_fsdp: \u001B[38;5;28mbool\u001B[39m \u001B[38;5;241m=\u001B[39m \u001B[38;5;28;01mFalse\u001B[39;00m) \u001B[38;5;241m-\u001B[39m\u001B[38;5;241m>\u001B[39m tp\u001B[38;5;241m.\u001B[39mOptional[Path]:\n\u001B[1;32m     58\u001B[0m \u001B[38;5;250m    \u001B[39m\u001B[38;5;124;03m\"\"\"Resolve a given checkpoint path for a provided dora sig or path.\u001B[39;00m\n\u001B[1;32m     59\u001B[0m \n\u001B[1;32m     60\u001B[0m \u001B[38;5;124;03m    Args:\u001B[39;00m\n\u001B[0;32m   (...)\u001B[0m\n\u001B[1;32m     66\u001B[0m \u001B[38;5;124;03m        Path, optional: Resolved checkpoint path, if it exists.\u001B[39;00m\n\u001B[1;32m     67\u001B[0m \u001B[38;5;124;03m    \"\"\"\u001B[39;00m\n\u001B[0;32m---> 68\u001B[0m     \u001B[38;5;28;01mfrom\u001B[39;00m \u001B[38;5;21;01maudiocraft\u001B[39;00m \u001B[38;5;28;01mimport\u001B[39;00m train\n\u001B[1;32m     69\u001B[0m     xps_root \u001B[38;5;241m=\u001B[39m train\u001B[38;5;241m.\u001B[39mmain\u001B[38;5;241m.\u001B[39mdora\u001B[38;5;241m.\u001B[39mdir \u001B[38;5;241m/\u001B[39m \u001B[38;5;124m'\u001B[39m\u001B[38;5;124mxps\u001B[39m\u001B[38;5;124m'\u001B[39m\n\u001B[1;32m     70\u001B[0m     sig_or_path \u001B[38;5;241m=\u001B[39m \u001B[38;5;28mstr\u001B[39m(sig_or_path)\n",
      "File \u001B[0;32m~/miniconda3/envs/wsl-latest-voice-craft/lib/python3.10/site-packages/audiocraft/train.py:131\u001B[0m\n\u001B[1;32m    126\u001B[0m             logger\u001B[38;5;241m.\u001B[39minfo(\u001B[38;5;124m\"\u001B[39m\u001B[38;5;124mChanging tmpdir to \u001B[39m\u001B[38;5;132;01m%s\u001B[39;00m\u001B[38;5;124m\"\u001B[39m, tmpdir)\n\u001B[1;32m    127\u001B[0m             os\u001B[38;5;241m.\u001B[39menviron[\u001B[38;5;124m'\u001B[39m\u001B[38;5;124mTMPDIR\u001B[39m\u001B[38;5;124m'\u001B[39m] \u001B[38;5;241m=\u001B[39m \u001B[38;5;28mstr\u001B[39m(tmpdir)\n\u001B[1;32m    130\u001B[0m \u001B[38;5;129;43m@hydra_main\u001B[39;49m\u001B[43m(\u001B[49m\u001B[43mconfig_path\u001B[49m\u001B[38;5;241;43m=\u001B[39;49m\u001B[38;5;124;43m'\u001B[39;49m\u001B[38;5;124;43m../config\u001B[39;49m\u001B[38;5;124;43m'\u001B[39;49m\u001B[43m,\u001B[49m\u001B[43m \u001B[49m\u001B[43mconfig_name\u001B[49m\u001B[38;5;241;43m=\u001B[39;49m\u001B[38;5;124;43m'\u001B[39;49m\u001B[38;5;124;43mconfig\u001B[39;49m\u001B[38;5;124;43m'\u001B[39;49m\u001B[43m,\u001B[49m\u001B[43m \u001B[49m\u001B[43mversion_base\u001B[49m\u001B[38;5;241;43m=\u001B[39;49m\u001B[38;5;124;43m'\u001B[39;49m\u001B[38;5;124;43m1.1\u001B[39;49m\u001B[38;5;124;43m'\u001B[39;49m\u001B[43m)\u001B[49m\n\u001B[0;32m--> 131\u001B[0m \u001B[38;5;28;43;01mdef\u001B[39;49;00m\u001B[43m \u001B[49m\u001B[38;5;21;43mmain\u001B[39;49m\u001B[43m(\u001B[49m\u001B[43mcfg\u001B[49m\u001B[43m)\u001B[49m\u001B[43m:\u001B[49m\n\u001B[1;32m    132\u001B[0m \u001B[43m    \u001B[49m\u001B[43minit_seed_and_system\u001B[49m\u001B[43m(\u001B[49m\u001B[43mcfg\u001B[49m\u001B[43m)\u001B[49m\n\u001B[1;32m    134\u001B[0m \u001B[43m    \u001B[49m\u001B[38;5;66;43;03m# Setup logging both to XP specific folder, and to stderr.\u001B[39;49;00m\n",
      "File \u001B[0;32m~/miniconda3/envs/wsl-latest-voice-craft/lib/python3.10/site-packages/dora/hydra.py:308\u001B[0m, in \u001B[0;36mhydra_main.<locals>._decorator\u001B[0;34m(main)\u001B[0m\n\u001B[1;32m    307\u001B[0m \u001B[38;5;28;01mdef\u001B[39;00m \u001B[38;5;21m_decorator\u001B[39m(main: MainFun):\n\u001B[0;32m--> 308\u001B[0m     \u001B[38;5;28;01mreturn\u001B[39;00m \u001B[43mHydraMain\u001B[49m\u001B[43m(\u001B[49m\u001B[43mmain\u001B[49m\u001B[43m,\u001B[49m\u001B[43m \u001B[49m\u001B[43mconfig_name\u001B[49m\u001B[38;5;241;43m=\u001B[39;49m\u001B[43mconfig_name\u001B[49m\u001B[43m,\u001B[49m\u001B[43m \u001B[49m\u001B[43mconfig_path\u001B[49m\u001B[38;5;241;43m=\u001B[39;49m\u001B[43mconfig_path\u001B[49m\u001B[43m,\u001B[49m\n\u001B[1;32m    309\u001B[0m \u001B[43m                     \u001B[49m\u001B[38;5;241;43m*\u001B[39;49m\u001B[38;5;241;43m*\u001B[39;49m\u001B[43mkwargs\u001B[49m\u001B[43m)\u001B[49m\n",
      "File \u001B[0;32m~/miniconda3/envs/wsl-latest-voice-craft/lib/python3.10/site-packages/dora/hydra.py:161\u001B[0m, in \u001B[0;36mHydraMain.__init__\u001B[0;34m(self, main, config_name, config_path, **kwargs)\u001B[0m\n\u001B[1;32m    158\u001B[0m     \u001B[38;5;28mself\u001B[39m\u001B[38;5;241m.\u001B[39mfull_config_path \u001B[38;5;241m=\u001B[39m \u001B[38;5;28mself\u001B[39m\u001B[38;5;241m.\u001B[39mfull_config_path \u001B[38;5;241m/\u001B[39m config_path\n\u001B[1;32m    160\u001B[0m \u001B[38;5;28mself\u001B[39m\u001B[38;5;241m.\u001B[39m_initialized \u001B[38;5;241m=\u001B[39m \u001B[38;5;28;01mFalse\u001B[39;00m\n\u001B[0;32m--> 161\u001B[0m \u001B[38;5;28mself\u001B[39m\u001B[38;5;241m.\u001B[39m_base_cfg \u001B[38;5;241m=\u001B[39m \u001B[38;5;28;43mself\u001B[39;49m\u001B[38;5;241;43m.\u001B[39;49m\u001B[43m_get_config\u001B[49m\u001B[43m(\u001B[49m\u001B[43m)\u001B[49m\n\u001B[1;32m    162\u001B[0m \u001B[38;5;28mself\u001B[39m\u001B[38;5;241m.\u001B[39m_config_groups \u001B[38;5;241m=\u001B[39m \u001B[38;5;28mself\u001B[39m\u001B[38;5;241m.\u001B[39m_get_config_groups()\n\u001B[1;32m    163\u001B[0m dora \u001B[38;5;241m=\u001B[39m \u001B[38;5;28mself\u001B[39m\u001B[38;5;241m.\u001B[39m_get_dora()\n",
      "File \u001B[0;32m~/miniconda3/envs/wsl-latest-voice-craft/lib/python3.10/site-packages/dora/hydra.py:281\u001B[0m, in \u001B[0;36mHydraMain._get_config\u001B[0;34m(self, overrides)\u001B[0m\n\u001B[1;32m    275\u001B[0m \u001B[38;5;250m\u001B[39m\u001B[38;5;124;03m\"\"\"\u001B[39;00m\n\u001B[1;32m    276\u001B[0m \u001B[38;5;124;03mInternal method, returns the config for the given override,\u001B[39;00m\n\u001B[1;32m    277\u001B[0m \u001B[38;5;124;03mbut without the dora.sig field filled.\u001B[39;00m\n\u001B[1;32m    278\u001B[0m \u001B[38;5;124;03m\"\"\"\u001B[39;00m\n\u001B[1;32m    279\u001B[0m \u001B[38;5;28;01mwith\u001B[39;00m initialize_config_dir(\u001B[38;5;28mstr\u001B[39m(\u001B[38;5;28mself\u001B[39m\u001B[38;5;241m.\u001B[39mfull_config_path), job_name\u001B[38;5;241m=\u001B[39m\u001B[38;5;28mself\u001B[39m\u001B[38;5;241m.\u001B[39m_job_name,\n\u001B[1;32m    280\u001B[0m                            \u001B[38;5;241m*\u001B[39m\u001B[38;5;241m*\u001B[39m\u001B[38;5;28mself\u001B[39m\u001B[38;5;241m.\u001B[39mhydra_kwargs):\n\u001B[0;32m--> 281\u001B[0m     \u001B[38;5;28;01mreturn\u001B[39;00m \u001B[38;5;28;43mself\u001B[39;49m\u001B[38;5;241;43m.\u001B[39;49m\u001B[43m_get_config_noinit\u001B[49m\u001B[43m(\u001B[49m\u001B[43moverrides\u001B[49m\u001B[43m)\u001B[49m\n",
      "File \u001B[0;32m~/miniconda3/envs/wsl-latest-voice-craft/lib/python3.10/site-packages/dora/hydra.py:289\u001B[0m, in \u001B[0;36mHydraMain._get_config_noinit\u001B[0;34m(self, overrides)\u001B[0m\n\u001B[1;32m    287\u001B[0m     cfg \u001B[38;5;241m=\u001B[39m copy\u001B[38;5;241m.\u001B[39mdeepcopy(cfg)\n\u001B[1;32m    288\u001B[0m \u001B[38;5;28;01melse\u001B[39;00m:\n\u001B[0;32m--> 289\u001B[0m     cfg \u001B[38;5;241m=\u001B[39m \u001B[43mcompose\u001B[49m\u001B[43m(\u001B[49m\u001B[38;5;28;43mself\u001B[39;49m\u001B[38;5;241;43m.\u001B[39;49m\u001B[43mconfig_name\u001B[49m\u001B[43m,\u001B[49m\u001B[43m \u001B[49m\u001B[43moverrides\u001B[49m\u001B[43m)\u001B[49m  \u001B[38;5;66;03m# type: ignore\u001B[39;00m\n\u001B[1;32m    290\u001B[0m \u001B[38;5;28;01mreturn\u001B[39;00m cfg\n",
      "File \u001B[0;32m~/miniconda3/envs/wsl-latest-voice-craft/lib/python3.10/site-packages/hydra/compose.py:38\u001B[0m, in \u001B[0;36mcompose\u001B[0;34m(config_name, overrides, return_hydra_config, strict)\u001B[0m\n\u001B[1;32m     36\u001B[0m gh \u001B[38;5;241m=\u001B[39m GlobalHydra\u001B[38;5;241m.\u001B[39minstance()\n\u001B[1;32m     37\u001B[0m \u001B[38;5;28;01massert\u001B[39;00m gh\u001B[38;5;241m.\u001B[39mhydra \u001B[38;5;129;01mis\u001B[39;00m \u001B[38;5;129;01mnot\u001B[39;00m \u001B[38;5;28;01mNone\u001B[39;00m\n\u001B[0;32m---> 38\u001B[0m cfg \u001B[38;5;241m=\u001B[39m \u001B[43mgh\u001B[49m\u001B[38;5;241;43m.\u001B[39;49m\u001B[43mhydra\u001B[49m\u001B[38;5;241;43m.\u001B[39;49m\u001B[43mcompose_config\u001B[49m\u001B[43m(\u001B[49m\n\u001B[1;32m     39\u001B[0m \u001B[43m    \u001B[49m\u001B[43mconfig_name\u001B[49m\u001B[38;5;241;43m=\u001B[39;49m\u001B[43mconfig_name\u001B[49m\u001B[43m,\u001B[49m\n\u001B[1;32m     40\u001B[0m \u001B[43m    \u001B[49m\u001B[43moverrides\u001B[49m\u001B[38;5;241;43m=\u001B[39;49m\u001B[43moverrides\u001B[49m\u001B[43m,\u001B[49m\n\u001B[1;32m     41\u001B[0m \u001B[43m    \u001B[49m\u001B[43mrun_mode\u001B[49m\u001B[38;5;241;43m=\u001B[39;49m\u001B[43mRunMode\u001B[49m\u001B[38;5;241;43m.\u001B[39;49m\u001B[43mRUN\u001B[49m\u001B[43m,\u001B[49m\n\u001B[1;32m     42\u001B[0m \u001B[43m    \u001B[49m\u001B[43mfrom_shell\u001B[49m\u001B[38;5;241;43m=\u001B[39;49m\u001B[38;5;28;43;01mFalse\u001B[39;49;00m\u001B[43m,\u001B[49m\n\u001B[1;32m     43\u001B[0m \u001B[43m    \u001B[49m\u001B[43mwith_log_configuration\u001B[49m\u001B[38;5;241;43m=\u001B[39;49m\u001B[38;5;28;43;01mFalse\u001B[39;49;00m\u001B[43m,\u001B[49m\n\u001B[1;32m     44\u001B[0m \u001B[43m\u001B[49m\u001B[43m)\u001B[49m\n\u001B[1;32m     45\u001B[0m \u001B[38;5;28;01massert\u001B[39;00m \u001B[38;5;28misinstance\u001B[39m(cfg, DictConfig)\n\u001B[1;32m     47\u001B[0m \u001B[38;5;28;01mif\u001B[39;00m \u001B[38;5;129;01mnot\u001B[39;00m return_hydra_config:\n",
      "File \u001B[0;32m~/miniconda3/envs/wsl-latest-voice-craft/lib/python3.10/site-packages/hydra/_internal/hydra.py:594\u001B[0m, in \u001B[0;36mHydra.compose_config\u001B[0;34m(self, config_name, overrides, run_mode, with_log_configuration, from_shell, validate_sweep_overrides)\u001B[0m\n\u001B[1;32m    576\u001B[0m \u001B[38;5;28;01mdef\u001B[39;00m \u001B[38;5;21mcompose_config\u001B[39m(\n\u001B[1;32m    577\u001B[0m     \u001B[38;5;28mself\u001B[39m,\n\u001B[1;32m    578\u001B[0m     config_name: Optional[\u001B[38;5;28mstr\u001B[39m],\n\u001B[0;32m   (...)\u001B[0m\n\u001B[1;32m    583\u001B[0m     validate_sweep_overrides: \u001B[38;5;28mbool\u001B[39m \u001B[38;5;241m=\u001B[39m \u001B[38;5;28;01mTrue\u001B[39;00m,\n\u001B[1;32m    584\u001B[0m ) \u001B[38;5;241m-\u001B[39m\u001B[38;5;241m>\u001B[39m DictConfig:\n\u001B[1;32m    585\u001B[0m \u001B[38;5;250m    \u001B[39m\u001B[38;5;124;03m\"\"\"\u001B[39;00m\n\u001B[1;32m    586\u001B[0m \u001B[38;5;124;03m    :param config_name:\u001B[39;00m\n\u001B[1;32m    587\u001B[0m \u001B[38;5;124;03m    :param overrides:\u001B[39;00m\n\u001B[0;32m   (...)\u001B[0m\n\u001B[1;32m    591\u001B[0m \u001B[38;5;124;03m    :return:\u001B[39;00m\n\u001B[1;32m    592\u001B[0m \u001B[38;5;124;03m    \"\"\"\u001B[39;00m\n\u001B[0;32m--> 594\u001B[0m     cfg \u001B[38;5;241m=\u001B[39m \u001B[38;5;28;43mself\u001B[39;49m\u001B[38;5;241;43m.\u001B[39;49m\u001B[43mconfig_loader\u001B[49m\u001B[38;5;241;43m.\u001B[39;49m\u001B[43mload_configuration\u001B[49m\u001B[43m(\u001B[49m\n\u001B[1;32m    595\u001B[0m \u001B[43m        \u001B[49m\u001B[43mconfig_name\u001B[49m\u001B[38;5;241;43m=\u001B[39;49m\u001B[43mconfig_name\u001B[49m\u001B[43m,\u001B[49m\n\u001B[1;32m    596\u001B[0m \u001B[43m        \u001B[49m\u001B[43moverrides\u001B[49m\u001B[38;5;241;43m=\u001B[39;49m\u001B[43moverrides\u001B[49m\u001B[43m,\u001B[49m\n\u001B[1;32m    597\u001B[0m \u001B[43m        \u001B[49m\u001B[43mrun_mode\u001B[49m\u001B[38;5;241;43m=\u001B[39;49m\u001B[43mrun_mode\u001B[49m\u001B[43m,\u001B[49m\n\u001B[1;32m    598\u001B[0m \u001B[43m        \u001B[49m\u001B[43mfrom_shell\u001B[49m\u001B[38;5;241;43m=\u001B[39;49m\u001B[43mfrom_shell\u001B[49m\u001B[43m,\u001B[49m\n\u001B[1;32m    599\u001B[0m \u001B[43m        \u001B[49m\u001B[43mvalidate_sweep_overrides\u001B[49m\u001B[38;5;241;43m=\u001B[39;49m\u001B[43mvalidate_sweep_overrides\u001B[49m\u001B[43m,\u001B[49m\n\u001B[1;32m    600\u001B[0m \u001B[43m    \u001B[49m\u001B[43m)\u001B[49m\n\u001B[1;32m    601\u001B[0m     \u001B[38;5;28;01mif\u001B[39;00m with_log_configuration:\n\u001B[1;32m    602\u001B[0m         configure_log(cfg\u001B[38;5;241m.\u001B[39mhydra\u001B[38;5;241m.\u001B[39mhydra_logging, cfg\u001B[38;5;241m.\u001B[39mhydra\u001B[38;5;241m.\u001B[39mverbose)\n",
      "File \u001B[0;32m~/miniconda3/envs/wsl-latest-voice-craft/lib/python3.10/site-packages/hydra/_internal/config_loader_impl.py:142\u001B[0m, in \u001B[0;36mConfigLoaderImpl.load_configuration\u001B[0;34m(self, config_name, overrides, run_mode, from_shell, validate_sweep_overrides)\u001B[0m\n\u001B[1;32m    133\u001B[0m \u001B[38;5;28;01mdef\u001B[39;00m \u001B[38;5;21mload_configuration\u001B[39m(\n\u001B[1;32m    134\u001B[0m     \u001B[38;5;28mself\u001B[39m,\n\u001B[1;32m    135\u001B[0m     config_name: Optional[\u001B[38;5;28mstr\u001B[39m],\n\u001B[0;32m   (...)\u001B[0m\n\u001B[1;32m    139\u001B[0m     validate_sweep_overrides: \u001B[38;5;28mbool\u001B[39m \u001B[38;5;241m=\u001B[39m \u001B[38;5;28;01mTrue\u001B[39;00m,\n\u001B[1;32m    140\u001B[0m ) \u001B[38;5;241m-\u001B[39m\u001B[38;5;241m>\u001B[39m DictConfig:\n\u001B[1;32m    141\u001B[0m     \u001B[38;5;28;01mtry\u001B[39;00m:\n\u001B[0;32m--> 142\u001B[0m         \u001B[38;5;28;01mreturn\u001B[39;00m \u001B[38;5;28;43mself\u001B[39;49m\u001B[38;5;241;43m.\u001B[39;49m\u001B[43m_load_configuration_impl\u001B[49m\u001B[43m(\u001B[49m\n\u001B[1;32m    143\u001B[0m \u001B[43m            \u001B[49m\u001B[43mconfig_name\u001B[49m\u001B[38;5;241;43m=\u001B[39;49m\u001B[43mconfig_name\u001B[49m\u001B[43m,\u001B[49m\n\u001B[1;32m    144\u001B[0m \u001B[43m            \u001B[49m\u001B[43moverrides\u001B[49m\u001B[38;5;241;43m=\u001B[39;49m\u001B[43moverrides\u001B[49m\u001B[43m,\u001B[49m\n\u001B[1;32m    145\u001B[0m \u001B[43m            \u001B[49m\u001B[43mrun_mode\u001B[49m\u001B[38;5;241;43m=\u001B[39;49m\u001B[43mrun_mode\u001B[49m\u001B[43m,\u001B[49m\n\u001B[1;32m    146\u001B[0m \u001B[43m            \u001B[49m\u001B[43mfrom_shell\u001B[49m\u001B[38;5;241;43m=\u001B[39;49m\u001B[43mfrom_shell\u001B[49m\u001B[43m,\u001B[49m\n\u001B[1;32m    147\u001B[0m \u001B[43m            \u001B[49m\u001B[43mvalidate_sweep_overrides\u001B[49m\u001B[38;5;241;43m=\u001B[39;49m\u001B[43mvalidate_sweep_overrides\u001B[49m\u001B[43m,\u001B[49m\n\u001B[1;32m    148\u001B[0m \u001B[43m        \u001B[49m\u001B[43m)\u001B[49m\n\u001B[1;32m    149\u001B[0m     \u001B[38;5;28;01mexcept\u001B[39;00m OmegaConfBaseException \u001B[38;5;28;01mas\u001B[39;00m e:\n\u001B[1;32m    150\u001B[0m         \u001B[38;5;28;01mraise\u001B[39;00m ConfigCompositionException()\u001B[38;5;241m.\u001B[39mwith_traceback(sys\u001B[38;5;241m.\u001B[39mexc_info()[\u001B[38;5;241m2\u001B[39m]) \u001B[38;5;28;01mfrom\u001B[39;00m \u001B[38;5;21;01me\u001B[39;00m\n",
      "File \u001B[0;32m~/miniconda3/envs/wsl-latest-voice-craft/lib/python3.10/site-packages/hydra/_internal/config_loader_impl.py:243\u001B[0m, in \u001B[0;36mConfigLoaderImpl._load_configuration_impl\u001B[0;34m(self, config_name, overrides, run_mode, from_shell, validate_sweep_overrides)\u001B[0m\n\u001B[1;32m    233\u001B[0m \u001B[38;5;28;01mdef\u001B[39;00m \u001B[38;5;21m_load_configuration_impl\u001B[39m(\n\u001B[1;32m    234\u001B[0m     \u001B[38;5;28mself\u001B[39m,\n\u001B[1;32m    235\u001B[0m     config_name: Optional[\u001B[38;5;28mstr\u001B[39m],\n\u001B[0;32m   (...)\u001B[0m\n\u001B[1;32m    239\u001B[0m     validate_sweep_overrides: \u001B[38;5;28mbool\u001B[39m \u001B[38;5;241m=\u001B[39m \u001B[38;5;28;01mTrue\u001B[39;00m,\n\u001B[1;32m    240\u001B[0m ) \u001B[38;5;241m-\u001B[39m\u001B[38;5;241m>\u001B[39m DictConfig:\n\u001B[1;32m    241\u001B[0m     \u001B[38;5;28;01mfrom\u001B[39;00m \u001B[38;5;21;01mhydra\u001B[39;00m \u001B[38;5;28;01mimport\u001B[39;00m __version__, version\n\u001B[0;32m--> 243\u001B[0m     \u001B[38;5;28;43mself\u001B[39;49m\u001B[38;5;241;43m.\u001B[39;49m\u001B[43mensure_main_config_source_available\u001B[49m\u001B[43m(\u001B[49m\u001B[43m)\u001B[49m\n\u001B[1;32m    244\u001B[0m     parsed_overrides, caching_repo \u001B[38;5;241m=\u001B[39m \u001B[38;5;28mself\u001B[39m\u001B[38;5;241m.\u001B[39m_parse_overrides_and_create_caching_repo(\n\u001B[1;32m    245\u001B[0m         config_name, overrides\n\u001B[1;32m    246\u001B[0m     )\n\u001B[1;32m    248\u001B[0m     \u001B[38;5;28;01mif\u001B[39;00m validate_sweep_overrides:\n",
      "File \u001B[0;32m~/miniconda3/envs/wsl-latest-voice-craft/lib/python3.10/site-packages/hydra/_internal/config_loader_impl.py:129\u001B[0m, in \u001B[0;36mConfigLoaderImpl.ensure_main_config_source_available\u001B[0;34m(self)\u001B[0m\n\u001B[1;32m    123\u001B[0m \u001B[38;5;28;01melse\u001B[39;00m:\n\u001B[1;32m    124\u001B[0m     msg \u001B[38;5;241m=\u001B[39m (\n\u001B[1;32m    125\u001B[0m         \u001B[38;5;124m\"\u001B[39m\u001B[38;5;124mPrimary config directory not found.\u001B[39m\u001B[38;5;130;01m\\n\u001B[39;00m\u001B[38;5;124mCheck that the\u001B[39m\u001B[38;5;124m\"\u001B[39m\n\u001B[1;32m    126\u001B[0m         \u001B[38;5;124mf\u001B[39m\u001B[38;5;124m\"\u001B[39m\u001B[38;5;124m config directory \u001B[39m\u001B[38;5;124m'\u001B[39m\u001B[38;5;132;01m{\u001B[39;00msource\u001B[38;5;241m.\u001B[39mpath\u001B[38;5;132;01m}\u001B[39;00m\u001B[38;5;124m'\u001B[39m\u001B[38;5;124m exists and readable\u001B[39m\u001B[38;5;124m\"\u001B[39m\n\u001B[1;32m    127\u001B[0m     )\n\u001B[0;32m--> 129\u001B[0m \u001B[38;5;28;43mself\u001B[39;49m\u001B[38;5;241;43m.\u001B[39;49m\u001B[43m_missing_config_error\u001B[49m\u001B[43m(\u001B[49m\n\u001B[1;32m    130\u001B[0m \u001B[43m    \u001B[49m\u001B[43mconfig_name\u001B[49m\u001B[38;5;241;43m=\u001B[39;49m\u001B[38;5;28;43;01mNone\u001B[39;49;00m\u001B[43m,\u001B[49m\u001B[43m \u001B[49m\u001B[43mmsg\u001B[49m\u001B[38;5;241;43m=\u001B[39;49m\u001B[43mmsg\u001B[49m\u001B[43m,\u001B[49m\u001B[43m \u001B[49m\u001B[43mwith_search_path\u001B[49m\u001B[38;5;241;43m=\u001B[39;49m\u001B[38;5;28;43;01mFalse\u001B[39;49;00m\n\u001B[1;32m    131\u001B[0m \u001B[43m\u001B[49m\u001B[43m)\u001B[49m\n",
      "File \u001B[0;32m~/miniconda3/envs/wsl-latest-voice-craft/lib/python3.10/site-packages/hydra/_internal/config_loader_impl.py:102\u001B[0m, in \u001B[0;36mConfigLoaderImpl._missing_config_error\u001B[0;34m(self, config_name, msg, with_search_path)\u001B[0m\n\u001B[1;32m     99\u001B[0m     \u001B[38;5;28;01melse\u001B[39;00m:\n\u001B[1;32m    100\u001B[0m         \u001B[38;5;28;01mreturn\u001B[39;00m msg\n\u001B[0;32m--> 102\u001B[0m \u001B[38;5;28;01mraise\u001B[39;00m MissingConfigException(\n\u001B[1;32m    103\u001B[0m     missing_cfg_file\u001B[38;5;241m=\u001B[39mconfig_name, message\u001B[38;5;241m=\u001B[39madd_search_path()\n\u001B[1;32m    104\u001B[0m )\n",
      "\u001B[0;31mMissingConfigException\u001B[0m: Primary config directory not found.\nCheck that the config directory '/home/saad/miniconda3/envs/wsl-latest-voice-craft/lib/python3.10/site-packages/audiocraft/../config' exists and readable"
     ]
    }
   ],
   "execution_count": 3
  },
  {
   "cell_type": "code",
   "metadata": {
    "ExecuteTime": {
     "end_time": "2024-07-10T14:49:39.166381Z",
     "start_time": "2024-07-10T14:49:39.133506Z"
    }
   },
   "source": [
    "# Prepare your audio\n",
    "# point to the original audio whose speech you want to clone\n",
    "# write down the transcript for the file, or run whisper to get the transcript (and you can modify it if it's not accurate), save it as a .txt file\n",
    "orig_audio = \"./demo/5895_34622_000026_000002.wav\"\n",
    "orig_transcript = \"Gwynplaine had, besides, for his work and for his feats of strength, round his neck and over his shoulders, an esclavine of leather.\"\n",
    "\n",
    "# move the audio and transcript to temp folder\n",
    "temp_folder = \"./demo/temp\"\n",
    "os.makedirs(temp_folder, exist_ok=True)\n",
    "os.system(f\"cp {orig_audio} {temp_folder}\")\n",
    "filename = os.path.splitext(orig_audio.split(\"/\")[-1])[0]\n",
    "with open(f\"{temp_folder}/{filename}.txt\", \"w\") as f:\n",
    "    f.write(orig_transcript)\n",
    "# run MFA to get the alignment\n",
    "align_temp = f\"{temp_folder}/mfa_alignments\"\n",
    "\n",
    "\n",
    "# # if the above fails, it could be because the audio is too hard for the alignment model, increasing the beam size usually solves the issue\n",
    "# !source ~/.bashrc && \\\n",
    "#     conda activate voicecraft && \\\n",
    "#     mfa align -v --clean -j 1 --output_format csv {temp_folder} \\\n",
    "#         english_us_arpa english_us_arpa {align_temp} --beam 1000 --retry_beam 2000\n",
    "\n"
   ],
   "outputs": [],
   "execution_count": 5
  },
  {
   "metadata": {
    "ExecuteTime": {
     "end_time": "2024-07-10T14:49:41.113699Z",
     "start_time": "2024-07-10T14:49:40.955704Z"
    }
   },
   "cell_type": "code",
   "source": "!mfa align -v --clean -j 1 --output_format csv {temp_folder} english_us_arpa english_us_arpa {align_temp}",
   "outputs": [
    {
     "name": "stdout",
     "output_type": "stream",
     "text": [
      "/bin/bash: warning: setlocale: LC_ALL: cannot change locale (en_US.UTF-8)\r\n",
      "/bin/bash: line 1: mfa: command not found\r\n"
     ]
    }
   ],
   "execution_count": 6
  },
  {
   "cell_type": "code",
   "execution_count": null,
   "metadata": {},
   "source": [
    "# take a look at demo/temp/mfa_alignment, decide which part of the audio to use as prompt\n",
    "cut_off_sec = 3.6 # NOTE: according to forced-alignment file demo/temp/mfa_alignments/5895_34622_000026_000002.wav, the word \"strength\" stop as 3.561 sec, so we use first 3.6 sec as the prompt. this should be different for different audio\n",
    "target_transcript = \"Gwynplaine had, besides, for his work and for his feats of strength, I cannot believe that the same model can also do text to speech synthesis too!\"\n",
    "# NOTE: 3 sec of reference is generally enough for high quality voice cloning, but longer is generally better, try e.g. 3~6 sec.\n",
    "audio_fn = f\"{temp_folder}/{filename}.wav\"\n",
    "info = torchaudio.info(audio_fn)\n",
    "audio_dur = info.num_frames / info.sample_rate\n",
    "\n",
    "assert cut_off_sec < audio_dur, f\"cut_off_sec {cut_off_sec} is larger than the audio duration {audio_dur}\"\n",
    "prompt_end_frame = int(cut_off_sec * info.sample_rate)\n",
    "\n",
    "# run the model to get the output\n",
    "# hyperparameters for inference\n",
    "codec_audio_sr = 16000\n",
    "codec_sr = 50\n",
    "top_k = 0\n",
    "top_p = 0.9 # can also try 0.8, but 0.9 seems to work better\n",
    "temperature = 1\n",
    "silence_tokens=[1388,1898,131]\n",
    "kvcache = 1 # NOTE if OOM, change this to 0, or try the 330M model\n",
    "\n",
    "# NOTE adjust the below three arguments if the generation is not as good\n",
    "stop_repetition = 3 # NOTE if the model generate long silence, reduce the stop_repetition to 3, 2 or even 1\n",
    "sample_batch_size = 3 # NOTE: if the if there are long silence or unnaturally strecthed words, increase sample_batch_size to 4 or higher. What this will do to the model is that the model will run sample_batch_size examples of the same audio, and pick the one that's the shortest. So if the speech rate of the generated is too fast change it to a smaller number.\n",
    "seed = 1 # change seed if you are still unhappy with the result\n",
    "\n",
    "def seed_everything(seed):\n",
    "    os.environ['PYTHONHASHSEED'] = str(seed)\n",
    "    random.seed(seed)\n",
    "    np.random.seed(seed)\n",
    "    torch.manual_seed(seed)\n",
    "    torch.cuda.manual_seed(seed)\n",
    "    torch.backends.cudnn.benchmark = False\n",
    "    torch.backends.cudnn.deterministic = True\n",
    "seed_everything(seed)\n",
    "\n",
    "decode_config = {'top_k': top_k, 'top_p': top_p, 'temperature': temperature, 'stop_repetition': stop_repetition, 'kvcache': kvcache, \"codec_audio_sr\": codec_audio_sr, \"codec_sr\": codec_sr, \"silence_tokens\": silence_tokens, \"sample_batch_size\": sample_batch_size}\n",
    "from inference_tts_scale import inference_one_sample\n",
    "concated_audio, gen_audio = inference_one_sample(model, Namespace(**config), phn2num, text_tokenizer, audio_tokenizer, audio_fn, target_transcript, device, decode_config, prompt_end_frame)\n",
    "        \n",
    "# save segments for comparison\n",
    "concated_audio, gen_audio = concated_audio[0].cpu(), gen_audio[0].cpu()\n",
    "# logging.info(f\"length of the resynthesize orig audio: {orig_audio.shape}\")\n",
    "\n",
    "\n",
    "# display the audio\n",
    "from IPython.display import Audio\n",
    "print(\"concatenate prompt and generated:\")\n",
    "display(Audio(concated_audio, rate=codec_audio_sr))\n",
    "\n",
    "print(\"generated:\")\n",
    "display(Audio(gen_audio, rate=codec_audio_sr))\n",
    "\n",
    "# # save the audio\n",
    "# # output_dir\n",
    "# output_dir = \"/home/pyp/VoiceCraft/demo/generated_tts\"\n",
    "# os.makedirs(output_dir, exist_ok=True)\n",
    "# seg_save_fn_gen = f\"{output_dir}/{os.path.basename(audio_fn)[:-4]}_gen_seed{seed}.wav\"\n",
    "# seg_save_fn_concat = f\"{output_dir}/{os.path.basename(audio_fn)[:-4]}_concat_seed{seed}.wav\"        \n",
    "\n",
    "# torchaudio.save(seg_save_fn_gen, gen_audio, codec_audio_sr)\n",
    "# torchaudio.save(seg_save_fn_concat, concated_audio, codec_audio_sr)\n",
    "\n",
    "# you are might get warnings like WARNING:phonemizer:words count mismatch on 300.0% of the lines (3/1), this can be safely ignored"
   ],
   "outputs": []
  },
  {
   "cell_type": "code",
   "execution_count": null,
   "metadata": {},
   "source": [],
   "outputs": []
  }
 ],
 "metadata": {
  "kernelspec": {
   "display_name": "voicecraft",
   "language": "python",
   "name": "python3"
  },
  "language_info": {
   "codemirror_mode": {
    "name": "ipython",
    "version": 3
   },
   "file_extension": ".py",
   "mimetype": "text/x-python",
   "name": "python",
   "nbconvert_exporter": "python",
   "pygments_lexer": "ipython3",
   "version": "3.9.18"
  }
 },
 "nbformat": 4,
 "nbformat_minor": 4
}
